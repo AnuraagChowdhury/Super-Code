{
 "cells": [
  {
   "cell_type": "code",
   "execution_count": 26,
   "id": "cffed908",
   "metadata": {},
   "outputs": [
    {
     "name": "stdout",
     "output_type": "stream",
     "text": [
      "1331\n"
     ]
    }
   ],
   "source": [
    "def nearest_palindrome(n):\n",
    "    for i in range(n+1,n*n):\n",
    "        j=str(i)\n",
    "        if j==j[::-1]:\n",
    "            print(j)\n",
    "            break\n",
    "nearest_palindrome(1221)"
   ]
  },
  {
   "cell_type": "code",
   "execution_count": null,
   "id": "23436242",
   "metadata": {},
   "outputs": [],
   "source": [
    "def nearest_palindrome(n):\n",
    "    while(n):\n",
    "        if str(n+1)==str(n+1)[::-1]:\n",
    "            print(n+1)\n",
    "            break\n",
    "        n+=1\n",
    "        \n",
    "nearest_palindrome(99)"
   ]
  },
  {
   "cell_type": "code",
   "execution_count": null,
   "id": "6dd0b147",
   "metadata": {},
   "outputs": [],
   "source": []
  },
  {
   "cell_type": "code",
   "execution_count": 48,
   "id": "24ae30f4",
   "metadata": {},
   "outputs": [
    {
     "name": "stdout",
     "output_type": "stream",
     "text": [
      "Orthopedics\n"
     ]
    }
   ],
   "source": [
    "medical_specialities={\"P\":\"Pediatrics\",\"O\":\"Orthopedics\",\"E\":\"ENT\"}\n",
    "def medical(s):\n",
    "    p=0\n",
    "    e=0\n",
    "    o=0\n",
    "    for i in range(len(s)):\n",
    "        count=0\n",
    "        if \"P\" in s:\n",
    "            p=s.count(\"P\")\n",
    "        \n",
    "        if \"O\"  in s:\n",
    "            o=s.count(\"O\")\n",
    "        \n",
    "        if \"E\"  in s:\n",
    "            e=s.count(\"E\")\n",
    "            \n",
    "    if(p>o and p>e):\n",
    "        print(\"Pediatrics\")\n",
    "    elif(e>o and e>p):\n",
    "        print(\"ENT\")\n",
    "    else:\n",
    "        print(\"Orthopedics\")\n",
    "            \n",
    "medical([101,\"P\",102,\"O\",302,\"P\",305,\"P\",308,\"O\",309,\"O\",302,\"O\"])\n",
    "            "
   ]
  },
  {
   "cell_type": "code",
   "execution_count": 1,
   "id": "b5287b77",
   "metadata": {},
   "outputs": [
    {
     "name": "stdout",
     "output_type": "stream",
     "text": [
      "IlikePython\n",
      "i o e y n l\n"
     ]
    }
   ],
   "source": [
    "s=\"I like Python\"\n",
    "s1=\"Java is a very popular language\"\n",
    "c=[]\n",
    "s2=\"\"\n",
    "d=\" \"\n",
    "a=s.replace(\" \",\"\")\n",
    "b=s1.replace(\" \",\"\")\n",
    "for i in a:\n",
    "    for j in b:\n",
    "        if i in j:\n",
    "            c.append(i)\n",
    "\n",
    "print(*set(c))"
   ]
  },
  {
   "cell_type": "markdown",
   "id": "402662cd",
   "metadata": {},
   "source": [
    "# OBJECT ORIENTED PROGRAMMING\n"
   ]
  },
  {
   "cell_type": "code",
   "execution_count": 80,
   "id": "63b7b32b",
   "metadata": {},
   "outputs": [
    {
     "name": "stdout",
     "output_type": "stream",
     "text": [
      "10\n",
      "15\n"
     ]
    }
   ],
   "source": [
    "class Example:\n",
    "    def __init__(self,num):\n",
    "        self.num=num\n",
    "    def set_num(self,num):\n",
    "        self.num=num\n",
    "    def get_num(self):\n",
    "        return self.num\n",
    "obj=Example(10)\n",
    "print(obj.get_num())\n",
    "obj.set_num(15)\n",
    "print(obj.get_num())"
   ]
  },
  {
   "cell_type": "code",
   "execution_count": 84,
   "id": "df6d35dd",
   "metadata": {},
   "outputs": [
    {
     "name": "stdout",
     "output_type": "stream",
     "text": [
      "100\n"
     ]
    }
   ],
   "source": [
    "class Customer:\n",
    "    def __init__(self):\n",
    "        self.cust_id=100 #self is mandatory\n",
    "c1=Customer()\n",
    "print(c1.cust_id)"
   ]
  },
  {
   "cell_type": "code",
   "execution_count": 86,
   "id": "aeb62c76",
   "metadata": {},
   "outputs": [
    {
     "name": "stdout",
     "output_type": "stream",
     "text": [
      "100\n"
     ]
    }
   ],
   "source": [
    "class Customer:\n",
    "    def __init__(self,id):\n",
    "        self.id=100#value is assigned to id\n",
    "c1=Customer(200)\n",
    "print(c1.id)"
   ]
  },
  {
   "cell_type": "code",
   "execution_count": 87,
   "id": "e276a962",
   "metadata": {},
   "outputs": [
    {
     "name": "stdout",
     "output_type": "stream",
     "text": [
      "My fav is Learning python\n",
      "Your's is Learn python the hard way\n"
     ]
    }
   ],
   "source": [
    "class Book:\n",
    "    def __init__(self):\n",
    "        self.title=None\n",
    "my_fav=Book()\n",
    "my_fav.title=\"Head first programming\"\n",
    "your_fav=Book()\n",
    "your_fav.title=\"Learn python the hard way\"\n",
    "my_fav.title=\"Learning python\"\n",
    "print(\"My fav is\",my_fav.title)\n",
    "print(\"Your's is\",your_fav.title)"
   ]
  },
  {
   "cell_type": "code",
   "execution_count": 89,
   "id": "fa38f964",
   "metadata": {},
   "outputs": [
    {
     "name": "stdout",
     "output_type": "stream",
     "text": [
      "<__main__.Shoe object at 0x0000028525EF99A0>\n",
      "1000 Canvas\n"
     ]
    }
   ],
   "source": [
    "class Shoe:\n",
    "    def __init__(self,price,material):\n",
    "        self.price= price\n",
    "        self.material= material\n",
    "s=Shoe(1000,\"Canvas\")\n",
    "print(s)\n",
    "print(s.price,s.material)"
   ]
  },
  {
   "cell_type": "code",
   "execution_count": 91,
   "id": "e4af48ab",
   "metadata": {},
   "outputs": [
    {
     "name": "stdout",
     "output_type": "stream",
     "text": [
      "Shoe with Price: 1000 and material: Canvas\n"
     ]
    }
   ],
   "source": [
    "class Shoe:\n",
    "    def __init__(self,price,material):\n",
    "        self.price=price\n",
    "        self.material=material\n",
    "    def __str__(self):\n",
    "        return \"Shoe with Price: \" +str(self.price) + \" and material: \"+self.material\n",
    "s1=Shoe(1000,\"Canvas\")\n",
    "print(s1)"
   ]
  },
  {
   "cell_type": "code",
   "execution_count": 96,
   "id": "130a43e9",
   "metadata": {},
   "outputs": [
    {
     "name": "stdout",
     "output_type": "stream",
     "text": [
      "2770890287424\n",
      "Displaying Details\n",
      "Calculating Price\n",
      "2770889281200\n",
      "Displaying Details\n",
      "Calculating Price\n",
      "2770890287424\n",
      "2770889281200\n",
      "<__main__.Mobile object at 0x0000028525EE6940> <__main__.Mobile object at 0x0000028525DF0EB0>\n",
      "<__main__.Mobile object at 0x0000028525DF0EB0>\n"
     ]
    }
   ],
   "source": [
    "class Mobile:\n",
    "    def __init__(self):\n",
    "        print(id(self))\n",
    "    def display(self):\n",
    "        print(\"Displaying Details\")\n",
    "    def purchase(self):\n",
    "        self.display()\n",
    "        print(\"Calculating Price\")\n",
    "Mobile().purchase()\n",
    "Mobile().purchase()\n",
    "m1=Mobile()\n",
    "m2=Mobile()\n",
    "print(m1,m2)\n",
    "m1=m2\n",
    "print(m1)"
   ]
  },
  {
   "cell_type": "code",
   "execution_count": 100,
   "id": "4b898ec3",
   "metadata": {},
   "outputs": [
    {
     "name": "stdout",
     "output_type": "stream",
     "text": [
      "Total price of Apple mobile is 9000.0\n",
      "Total price of Samsung mobile is 19000.0\n"
     ]
    }
   ],
   "source": [
    "class Mobile:\n",
    "    def __init__(self ,brand,price):\n",
    "        self.brand=brand\n",
    "        self.price=price\n",
    "        self.total_price=None\n",
    "    def purchase(self):\n",
    "        if self.brand==\"Apple\":\n",
    "            discount=10\n",
    "        else:\n",
    "            discount=5\n",
    "        self.total_price=self.price-self.price*(discount/100)\n",
    "        print(\"Total price of\",self.brand,\"mobile is\",self.total_price)\n",
    "mob1=Mobile(\"Apple\",10000)\n",
    "#print(mob1)\n",
    "mob2=Mobile(\"Samsung\",20000)\n",
    "#print(mob2)\n",
    "mob1.purchase()\n",
    "mob2.purchase()    "
   ]
  },
  {
   "cell_type": "code",
   "execution_count": 104,
   "id": "01eca4ac",
   "metadata": {},
   "outputs": [
    {
     "name": "stdout",
     "output_type": "stream",
     "text": [
      "The balance is  1500\n"
     ]
    }
   ],
   "source": [
    "class Customer:\n",
    "    def __init__(self,cust_id,name,age,wallet_balance):\n",
    "        self.cust_id=cust_id\n",
    "        self.name=name\n",
    "        self.wallet_balance=wallet_balance\n",
    "    def update_balance(self,amount):\n",
    "        if amount<10000 and amount>0:\n",
    "             self.wallet_balance+=amount\n",
    "    def show_balance(self):\n",
    "        print(\"The balance is \",self.wallet_balance)\n",
    "c1=Customer(100,\"Gopal\",24,1000)\n",
    "c1.update_balance(500)\n",
    "c1.show_balance()\n",
    "            "
   ]
  },
  {
   "cell_type": "code",
   "execution_count": 106,
   "id": "98cccf06",
   "metadata": {},
   "outputs": [
    {
     "name": "stdout",
     "output_type": "stream",
     "text": [
      "<bound method Customer.get_wallent_balance of <__main__.Customer object at 0x0000028525DF01C0>>\n",
      "6000\n"
     ]
    }
   ],
   "source": [
    "class Customer:\n",
    "    def __init__(self,cust_id,name,age,wallet_balance):\n",
    "        self.cust_id=cust_id\n",
    "        self.name=name\n",
    "        self.age=age\n",
    "        self.wallet_balance=wallet_balance\n",
    "    def set_balance(self,amount):\n",
    "        if amount<50000 and amount >0:\n",
    "            self.wallet_balance+=amount\n",
    "    def get_wallent_balance(self):\n",
    "        return self.wallet_balance\n",
    "c1=Customer(100,\"Gopal\",24,1000)\n",
    "print(c1.get_wallent_balance)\n",
    "c1.set_balance(5000)\n",
    "print(c1.get_wallent_balance())"
   ]
  },
  {
   "cell_type": "code",
   "execution_count": 112,
   "id": "1010a327",
   "metadata": {},
   "outputs": [
    {
     "name": "stdout",
     "output_type": "stream",
     "text": [
      "Ani name: ABS\n",
      "Ani length: 3.5\n"
     ]
    }
   ],
   "source": [
    "class Ani:\n",
    "    def __init__(self,name,length):\n",
    "        self.name=name\n",
    "        self.length=length\n",
    "    def get_length(self):\n",
    "        return self.length\n",
    "a1=Ani(\"ABS\",3.5)\n",
    "print(\"Ani name:\",a1.name)\n",
    "print(\"Ani length:\",a1.length)"
   ]
  },
  {
   "cell_type": "code",
   "execution_count": 9,
   "id": "06c47e0b",
   "metadata": {},
   "outputs": [
    {
     "name": "stdout",
     "output_type": "stream",
     "text": [
      "30000\n"
     ]
    }
   ],
   "source": [
    "class Table:\n",
    "    def _init_(self):\n",
    "        self.no_of_legs=4 \n",
    "        self._glass_top=None\n",
    "        self._wooden_top=None\n",
    "    def assign_data(self, glass_top, wooden_top):\n",
    "        self._glass_top=glass_top\n",
    "        self._wooden_top=wooden_top\n",
    "    def identify_rate(self, glass_top,wooden_top):\n",
    "        self.assign_data(glass_top, wooden_top)\n",
    "        if(self._glass_top==True):\n",
    "             rate=20000\n",
    "        elif(self._wooden_top==True):\n",
    "            rate=30000\n",
    "        else:\n",
    "             rate=0\n",
    "        return rate\n",
    "dining_table=Table()\n",
    "rate=dining_table.identify_rate(False,True)\n",
    "print(rate)"
   ]
  },
  {
   "cell_type": "code",
   "execution_count": 11,
   "id": "f1edcaa3",
   "metadata": {},
   "outputs": [
    {
     "name": "stdout",
     "output_type": "stream",
     "text": [
      "<__main__.Table object at 0x000002D31C602E20> <__main__.Table object at 0x000002D31C602E20> <__main__.Table object at 0x000002D31C602A90>\n"
     ]
    }
   ],
   "source": [
    "class Table:\n",
    "    def _init_(self):\n",
    "        self.no_of_legs=4 \n",
    "        self.glass_top=None \n",
    "        self.wooden_top=None \n",
    "dining_table=Table()\n",
    "back_table=Table()\n",
    "front_table=back_table\n",
    "back_table=dining_table\n",
    "print(dining_table,back_table,front_table)"
   ]
  },
  {
   "cell_type": "code",
   "execution_count": null,
   "id": "79eb0794",
   "metadata": {},
   "outputs": [],
   "source": []
  }
 ],
 "metadata": {
  "kernelspec": {
   "display_name": "Python 3 (ipykernel)",
   "language": "python",
   "name": "python3"
  },
  "language_info": {
   "codemirror_mode": {
    "name": "ipython",
    "version": 3
   },
   "file_extension": ".py",
   "mimetype": "text/x-python",
   "name": "python",
   "nbconvert_exporter": "python",
   "pygments_lexer": "ipython3",
   "version": "3.9.13"
  }
 },
 "nbformat": 4,
 "nbformat_minor": 5
}
