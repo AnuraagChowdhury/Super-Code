{
 "cells": [
  {
   "cell_type": "code",
   "execution_count": 93,
   "id": "49fcf102",
   "metadata": {},
   "outputs": [
    {
     "name": "stdout",
     "output_type": "stream",
     "text": [
      "<class 'list'>\n"
     ]
    }
   ],
   "source": [
    "list1=[]\n",
    "print(type(list1))"
   ]
  },
  {
   "cell_type": "code",
   "execution_count": 94,
   "id": "4a455dac",
   "metadata": {},
   "outputs": [
    {
     "name": "stdout",
     "output_type": "stream",
     "text": [
      "[10, 'Anuraag', 10.4]\n"
     ]
    }
   ],
   "source": [
    "l1=[10,\"Anuraag\",10.40]\n",
    "print(l1)"
   ]
  },
  {
   "cell_type": "code",
   "execution_count": 95,
   "id": "3cd2c898",
   "metadata": {},
   "outputs": [
    {
     "name": "stdout",
     "output_type": "stream",
     "text": [
      "[10, 20, 30, 40]\n"
     ]
    }
   ],
   "source": [
    "l2=[10,20,30]\n",
    "l2.append(40)\n",
    "print(l2)"
   ]
  },
  {
   "cell_type": "code",
   "execution_count": null,
   "id": "8d27b7f1",
   "metadata": {},
   "outputs": [],
   "source": [
    "l1=input()\n",
    "alpha=0\n",
    "digit=0\n",
    "for i in l1:\n",
    "    if i.isalpha():\n",
    "        alpha+=1\n",
    "    elif i.isdigit():\n",
    "        digit+=1\n",
    "    else:\n",
    "        continue\n",
    "print([alpha,digit])\n",
    "\n",
    "        "
   ]
  },
  {
   "cell_type": "code",
   "execution_count": 15,
   "id": "3dfd48b1",
   "metadata": {},
   "outputs": [
    {
     "name": "stdout",
     "output_type": "stream",
     "text": [
      "1 2 7 4 5 6 0 8\n",
      "Enter size 8\n",
      "[7, 1]\n",
      "[6, 2]\n",
      "[8, 0]\n",
      "3\n"
     ]
    }
   ],
   "source": [
    "l=[int(i) for i in input().split()]\n",
    "n=int(input(\"Enter size \"))\n",
    "count=0\n",
    "for i in range(0,n):\n",
    "    for j in range(0,i):\n",
    "        if l[i]+l[j]==n:\n",
    "            count+=1\n",
    "            print([l[i],l[j]])\n",
    "        else:\n",
    "            continue\n",
    "print(count)"
   ]
  },
  {
   "cell_type": "code",
   "execution_count": 26,
   "id": "b69b55ab",
   "metadata": {},
   "outputs": [
    {
     "name": "stdout",
     "output_type": "stream",
     "text": [
      "W3resource\n",
      "W3ce\n"
     ]
    }
   ],
   "source": [
    "s=str(input())\n",
    "l=len(s)\n",
    "if(l>2):\n",
    "    a=s[0:2]\n",
    "    b=s[-2:]\n",
    "    print(a+b)\n",
    "elif (l==2):\n",
    "    print(s+s)\n",
    "else:\n",
    "    print(-l)"
   ]
  },
  {
   "cell_type": "code",
   "execution_count": 1,
   "id": "1bbcb55a",
   "metadata": {},
   "outputs": [
    {
     "name": "stdout",
     "output_type": "stream",
     "text": [
      "sleeping\n",
      "sleepingly\n"
     ]
    }
   ],
   "source": [
    "s=str(input())\n",
    "l=len(s)\n",
    "if(l<3):\n",
    "    print(s)\n",
    "elif (s[-3:]==\"ing\"):\n",
    "    print(s+\"ly\")\n",
    "else:\n",
    "    print(s+\"ing\")\n",
    "\n"
   ]
  },
  {
   "cell_type": "code",
   "execution_count": null,
   "id": "2400e4db",
   "metadata": {},
   "outputs": [],
   "source": [
    "def func(n1):\n",
    "    l1=str(n1)\n",
    "    l2=str(n1*2)\n",
    "    if(l1==l2):\n",
    "        for i in range(0,l1):\n",
    "            for j in range(i,l2):\n",
    "                if(l1[i]!=l2[j]):\n",
    "                    return False      \n",
    "        return True\n",
    "    return False\n",
    "n1=int(input())\n",
    "func(n1)"
   ]
  },
  {
   "cell_type": "code",
   "execution_count": 2,
   "id": "309c3093",
   "metadata": {},
   "outputs": [
    {
     "name": "stdout",
     "output_type": "stream",
     "text": [
      "merry christmas\n",
      "god jul "
     ]
    }
   ],
   "source": [
    "D={\"merry\":\"god\",\"christmas\":\"jul\",\"and\":\"och\",\"happy\":\"gott\",\"new\":\"nytt\",\"year\":\"arr\"}\n",
    "s=input()\n",
    "l=s.split()\n",
    "for j in l:\n",
    "    print(D[j],end=\" \")\n"
   ]
  },
  {
   "cell_type": "code",
   "execution_count": 10,
   "id": "debc5e98",
   "metadata": {},
   "outputs": [
    {
     "name": "stdout",
     "output_type": "stream",
     "text": [
      "1\n",
      "3\n",
      "[1, 2, 3]\n",
      "[[1], [1, 2], [1, 2, 3], [2], [2, 3], [3]]\n",
      "4\n"
     ]
    }
   ],
   "source": [
    "n1=int(input())\n",
    "n2=int(input())\n",
    "l1=[]\n",
    "l2=[]\n",
    "for i in range(n1,n2+1):\n",
    "    l1.append(i)\n",
    "print(l1)\n",
    "for i in range(0,len(l1)):\n",
    "    for k in range(i,len(l1)):\n",
    "        \n",
    "        l2.append(l1[i:k+1])\n",
    "print(l2)\n",
    "c=0\n",
    "for i in range(0,len(l2)):\n",
    "    if sum(l2[i])%2!=0:\n",
    "        c+=1\n",
    "print(c)"
   ]
  },
  {
   "cell_type": "markdown",
   "id": "116106b9",
   "metadata": {},
   "source": [
    "n1=int(input())\n",
    "n2=int(input())\n",
    "result=[]\n",
    "for i in range(n1,n2+1):\n",
    "\n",
    "\n",
    "                        "
   ]
  }
 ],
 "metadata": {
  "kernelspec": {
   "display_name": "Python 3 (ipykernel)",
   "language": "python",
   "name": "python3"
  },
  "language_info": {
   "codemirror_mode": {
    "name": "ipython",
    "version": 3
   },
   "file_extension": ".py",
   "mimetype": "text/x-python",
   "name": "python",
   "nbconvert_exporter": "python",
   "pygments_lexer": "ipython3",
   "version": "3.9.13"
  }
 },
 "nbformat": 4,
 "nbformat_minor": 5
}
