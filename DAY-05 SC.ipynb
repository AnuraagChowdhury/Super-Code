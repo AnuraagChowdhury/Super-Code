{
 "cells": [
  {
   "cell_type": "code",
   "execution_count": 6,
   "id": "8b55fa9f",
   "metadata": {},
   "outputs": [
    {
     "name": "stdout",
     "output_type": "stream",
     "text": [
      "Pemium Amount =0\n",
      "vechile id: 2\n",
      "vechile Type: Two Wheeler\n",
      "vechile cost: 12000\n"
     ]
    }
   ],
   "source": [
    "class insurance:\n",
    "    def __init__(self):\n",
    "        self.__vid=None\n",
    "        self.__vtype=None\n",
    "        self.__vcost=0\n",
    "        self.__premiumAmt=0\n",
    "    def change(self,vtype):\n",
    "        if vtype in [\"Two Wheeler\",\"Four Wheeler\"]:\n",
    "            self.__vtype=vtype\n",
    "        else:\n",
    "            self.__vtype=\"invalid\"\n",
    "        if self.__vtype == \"Two Wheeler\":\n",
    "            self._premiumAmt=self.__vcost*0.02\n",
    "        elif self.__vtype == \"Four Wheeler\":\n",
    "            self._premiumAmt=self.__vcost*0.06\n",
    "    def premiumAmount(self):\n",
    "        return self.__premiumAmt\n",
    "    def set_vid(self,vid):\n",
    "        self.__vid=vid\n",
    "    def set_vtype(self,vtype):\n",
    "        self.change(vtype)\n",
    "    def set_vcost(self,vcost):\n",
    "        self.__vcost=vcost\n",
    "        self.change(self.__vtype)\n",
    "    def get_vid(self):\n",
    "        return self.__vid\n",
    "    def get_vtype(self):\n",
    "        return self.__vtype\n",
    "    def get_vcost(self):\n",
    "        return self.__vcost\n",
    "    \n",
    "v1=insurance()\n",
    "v1.set_vid(2)\n",
    "v1.set_vtype(\"Two Wheeler\")\n",
    "v1.set_vcost(12000)\n",
    "print(f\"Pemium Amount ={v1.premiumAmount()}\")\n",
    "print(f\"vechile id: {v1.get_vid()}\")\n",
    "print(f\"vechile Type: {v1.get_vtype()}\")\n",
    "print(f\"vechile cost: {v1.get_vcost()}\")"
   ]
  },
  {
   "cell_type": "code",
   "execution_count": 61,
   "id": "d1e6531e",
   "metadata": {},
   "outputs": [
    {
     "name": "stdout",
     "output_type": "stream",
     "text": [
      "19125.0\n"
     ]
    }
   ],
   "source": [
    "class Student:\n",
    "    def __init__(self,s_id,marks,age):\n",
    "        self.s_id=s_id\n",
    "        self.marks=marks\n",
    "        self.age=age\n",
    "    def set_s_id(self,s_id):\n",
    "        self.s_id=s_id\n",
    "    def set_marks(self,marks):\n",
    "        self.marks=marks\n",
    "    def set_age(self,age):\n",
    "        self.age=age\n",
    "    def get_s_id(self,s_id):\n",
    "        return self.s_id\n",
    "    def get_marks(self,marks):\n",
    "        return self.marks\n",
    "    def get_age(self,age):\n",
    "        return self.age\n",
    "    def validate_marks(self,marks):\n",
    "        if self.marks>=0 and self.marks<=100:\n",
    "            return True\n",
    "        else:\n",
    "            return False\n",
    "    def validate_age(self,age):\n",
    "        if self.age>20:\n",
    "            return True\n",
    "        else:\n",
    "            return False\n",
    "    def check_qualification(self,marks,age):\n",
    "        if self.marks > 65 and self.age > 20:\n",
    "            return True\n",
    "        else:\n",
    "            return False\n",
    "    def course_fun(self,s_id):\n",
    "        if s_id==1001 and self.check_qualification(self.marks,self.age):\n",
    "            if self.marks>85:\n",
    "                c_fee=25500-(25500*25)/100\n",
    "            else:\n",
    "                c_fee=25500\n",
    "            print(c_fee)\n",
    "        if s_id==1002 and self.check_qualification(self.marks,self.age):\n",
    "            if self.marks>85:\n",
    "                c_fee=15500-(15500*25)/100\n",
    "            else:\n",
    "                c_fee=15500\n",
    "            print(c_fee)\n",
    "        \n",
    "s1=Student(1001,87,21)           \n",
    "s1.course_fun(1001)       "
   ]
  },
  {
   "cell_type": "code",
   "execution_count": null,
   "id": "be70ead8",
   "metadata": {},
   "outputs": [],
   "source": [
    "class Customer:\n",
    "    def __init__ (self,quantity):\n",
    "        self.quantity=quantity\n",
    "    def validate_quantity(self,pizza):\n",
    "        if quantity > 1 and quantity < 5:\n",
    "            return True\n",
    "        else:\n",
    "            return False\n",
    "class Pizzaservice:\n",
    "    counter=100\n",
    "    if at==True:\n",
    "        print(\"Additional Topping is required\")\n",
    "    else:\n",
    "        print(\"Additional Topping is not required\")\n",
    "        \n",
    "        \n",
    "    def validate_pizza_type(self,pizza):\n",
    "        if self.pizza==\"Small\" or self.pizza==\"medium\":\n",
    "            return True\n",
    "        else:\n",
    "            return False\n",
    "        \n",
    "    def calculate_pizza_cost(self,)\n",
    "            \n",
    "        "
   ]
  },
  {
   "cell_type": "code",
   "execution_count": null,
   "id": "4d50f969",
   "metadata": {},
   "outputs": [],
   "source": []
  }
 ],
 "metadata": {
  "kernelspec": {
   "display_name": "Python 3 (ipykernel)",
   "language": "python",
   "name": "python3"
  },
  "language_info": {
   "codemirror_mode": {
    "name": "ipython",
    "version": 3
   },
   "file_extension": ".py",
   "mimetype": "text/x-python",
   "name": "python",
   "nbconvert_exporter": "python",
   "pygments_lexer": "ipython3",
   "version": "3.9.13"
  }
 },
 "nbformat": 4,
 "nbformat_minor": 5
}
