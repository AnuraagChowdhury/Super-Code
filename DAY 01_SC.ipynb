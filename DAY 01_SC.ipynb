{
 "cells": [
  {
   "cell_type": "code",
   "execution_count": 9,
   "id": "e4d99b52",
   "metadata": {},
   "outputs": [
    {
     "name": "stdout",
     "output_type": "stream",
     "text": [
      "Enter a number15\n",
      "num is multiple of 3 and 5\n"
     ]
    }
   ],
   "source": [
    "num=int(input(\"Enter a number\"))\n",
    "if(num%3==0 and num%5==0):\n",
    "    print(\"num is multiple of 3 and 5\")\n",
    "elif(num%5==0):\n",
    "    print(\"num is multiple of 5\")\n",
    "elif(num%3==0):\n",
    "    print(\"num is divisible by 3\")\n",
    "else:\n",
    "    print(\"Default\")"
   ]
  },
  {
   "cell_type": "code",
   "execution_count": 22,
   "id": "e67bd699",
   "metadata": {},
   "outputs": [
    {
     "name": "stdout",
     "output_type": "stream",
     "text": [
      "1 2 3 4 5 6 7 8 9 10 11 12 13 14 15 16 17 18 19 20 21 22 23 24 25 26 27 28 29 30 31 32 33 34 35 36 37 38 39 40 41 42 43 44 45 46 47 48 49 50 51 52 53 54 55 56 57 58 59 60 61 62 63 64 65 66 67 68 69 70 71 72 73 74 75 76 77 78 79 80 81 82 83 84 85 86 87 88 89 90 91 92 93 94 95 96 97 98 99 100 \n",
      "1 3 5 7 9 11 13 15 17 19 21 23 25 27 29 31 33 35 37 39 41 43 45 47 49 51 53 55 57 59 61 63 65 67 69 71 73 75 77 79 81 83 85 87 89 91 93 95 97 99 \n",
      "2 4 6 8 10 12 14 16 18 20 22 24 26 28 30 32 34 36 38 40 42 44 46 48 50 52 54 56 58 60 62 64 66 68 70 72 74 76 78 80 82 84 86 88 90 92 94 96 98 100 "
     ]
    }
   ],
   "source": [
    "for i in range(1,101):\n",
    "    print(i,end=\" \")\n",
    "print()\n",
    "for j in range(1,101,2):\n",
    "    print(j,end=\" \")\n",
    "print()\n",
    "for k in range(2,101,2):\n",
    "    print(k,end=\" \")"
   ]
  },
  {
   "cell_type": "code",
   "execution_count": 33,
   "id": "ef7f8238",
   "metadata": {},
   "outputs": [
    {
     "name": "stdout",
     "output_type": "stream",
     "text": [
      "100 99 98 97 96 95 94 93 92 91 90 89 88 87 86 85 84 83 82 81 80 79 78 77 76 75 74 73 72 71 70 69 68 67 66 65 64 63 62 61 60 59 58 57 56 55 54 53 52 51 50 49 48 47 46 45 44 43 42 41 40 39 38 37 36 35 34 33 32 31 30 29 28 27 26 25 24 23 22 21 20 19 18 17 16 15 14 13 12 11 10 9 8 7 6 5 4 3 2 1 \n",
      "99 97 95 93 91 89 87 85 83 81 79 77 75 73 71 69 67 65 63 61 59 57 55 53 51 49 47 45 43 41 39 37 35 33 31 29 27 25 23 21 19 17 15 13 11 9 7 5 3 1 \n",
      "100 98 96 94 92 90 88 86 84 82 80 78 76 74 72 70 68 66 64 62 60 58 56 54 52 50 48 46 44 42 40 38 36 34 32 30 28 26 24 22 20 18 16 14 12 10 8 6 4 2 0 "
     ]
    }
   ],
   "source": [
    "for i in range(100,0,-1):\n",
    "    print(i,end=\" \")\n",
    "print()\n",
    "for i in range(99,0,-2):\n",
    "    print(i,end=\" \")\n",
    "print()\n",
    "for i in range(100,-1,-2):\n",
    "    print(i,end=\" \")"
   ]
  },
  {
   "cell_type": "code",
   "execution_count": 35,
   "id": "42ef70ae",
   "metadata": {},
   "outputs": [
    {
     "name": "stdout",
     "output_type": "stream",
     "text": [
      "1 2 3 4 5 6 7 8 9 10 11 12 13 14 15 16 17 18 19 20 21 22 23 24 25 26 27 28 29 30 31 32 33 34 35 36 37 38 39 40 41 42 43 44 45 46 47 48 49 "
     ]
    }
   ],
   "source": [
    "for i in range(1,101):\n",
    "    if(i==50):\n",
    "        break\n",
    "    print(i,end=\" \")"
   ]
  },
  {
   "cell_type": "code",
   "execution_count": 36,
   "id": "33b2e18b",
   "metadata": {},
   "outputs": [
    {
     "name": "stdout",
     "output_type": "stream",
     "text": [
      "1 2 3 4 5 6 7 8 9 10 11 12 13 14 15 16 17 18 19 20 21 22 23 24 25 26 27 28 29 30 31 32 33 34 35 36 37 38 39 40 41 42 43 44 45 46 47 48 49 51 52 53 54 55 56 57 58 59 60 61 62 63 64 65 66 67 68 69 70 71 72 73 74 75 76 77 78 79 80 81 82 83 84 85 86 87 88 89 90 91 92 93 94 95 96 97 98 99 100 "
     ]
    }
   ],
   "source": [
    "for i in range(1,101):\n",
    "    if(i==50):\n",
    "        continue\n",
    "    print(i,end=\" \")"
   ]
  },
  {
   "cell_type": "code",
   "execution_count": 37,
   "id": "91e5d1b8",
   "metadata": {},
   "outputs": [
    {
     "name": "stdout",
     "output_type": "stream",
     "text": [
      "1 2 3 4 5 6 7 8 9 10 11 12 13 14 15 16 17 18 19 20 21 22 23 24 25 26 27 28 29 30 31 32 33 34 35 36 37 38 39 40 41 42 43 44 45 46 47 48 49 50 51 52 53 54 55 56 57 58 59 60 61 62 63 64 65 66 67 68 69 70 71 72 73 74 75 76 77 78 79 80 81 82 83 84 85 86 87 88 89 90 91 92 93 94 95 96 97 98 99 100 "
     ]
    }
   ],
   "source": [
    "for i in range(1,101):\n",
    "    if(i==50):\n",
    "        pass\n",
    "    print(i,end=\" \")"
   ]
  },
  {
   "cell_type": "code",
   "execution_count": 41,
   "id": "63764281",
   "metadata": {},
   "outputs": [
    {
     "name": "stdout",
     "output_type": "stream",
     "text": [
      "func\n",
      "20 10\n"
     ]
    }
   ],
   "source": [
    "def function():\n",
    "    print(\"func\")\n",
    "function()\n",
    "def func2(n1,n2):\n",
    "    print(n1,n2)\n",
    "func2(20,10)"
   ]
  },
  {
   "cell_type": "code",
   "execution_count": 43,
   "id": "def1f4d3",
   "metadata": {},
   "outputs": [
    {
     "name": "stdout",
     "output_type": "stream",
     "text": [
      "40\n"
     ]
    }
   ],
   "source": [
    "def func(n1,n2):\n",
    "    n3=n1+n2\n",
    "    print(n3)\n",
    "func(10,30)"
   ]
  },
  {
   "cell_type": "code",
   "execution_count": 44,
   "id": "bb00f6e0",
   "metadata": {},
   "outputs": [
    {
     "name": "stdout",
     "output_type": "stream",
     "text": [
      "values are 70\n"
     ]
    }
   ],
   "source": [
    "def fun(n1,n2):\n",
    "    n3=n1+n2\n",
    "    return n3\n",
    "print(\"values are\",fun(30,40))"
   ]
  },
  {
   "cell_type": "code",
   "execution_count": 45,
   "id": "9c423a2d",
   "metadata": {},
   "outputs": [
    {
     "data": {
      "text/plain": [
       "30.9"
      ]
     },
     "execution_count": 45,
     "metadata": {},
     "output_type": "execute_result"
    }
   ],
   "source": [
    "def f(n1,n2):\n",
    "    n3=float(n1)+n2\n",
    "    return n3\n",
    "f('10',20.9)"
   ]
  },
  {
   "cell_type": "code",
   "execution_count": 48,
   "id": "dbb0a96b",
   "metadata": {},
   "outputs": [
    {
     "data": {
      "text/plain": [
       "30"
      ]
     },
     "execution_count": 48,
     "metadata": {},
     "output_type": "execute_result"
    }
   ],
   "source": [
    "def f(n1,n2):\n",
    "    n3=float(n1)+n2\n",
    "    return n3\n",
    "f('10',20.9)"
   ]
  },
  {
   "cell_type": "code",
   "execution_count": 56,
   "id": "74c808ec",
   "metadata": {},
   "outputs": [
    {
     "name": "stdout",
     "output_type": "stream",
     "text": [
      "10 20 30 40 60\n",
      "50 143 Baddu Narendra weds Monica\n"
     ]
    }
   ],
   "source": [
    "#positional arguement\n",
    "def f(n1,n2,n3,n4,n5):\n",
    "    print(n1,n2,n3,n4,n5)\n",
    "f(10,20,30,40,60)\n",
    "f(50,143,\"Baddu Narendra\",\"weds\",\"Monica\")"
   ]
  },
  {
   "cell_type": "code",
   "execution_count": 60,
   "id": "317217c4",
   "metadata": {},
   "outputs": [
    {
     "name": "stdout",
     "output_type": "stream",
     "text": [
      "130 20 10\n"
     ]
    }
   ],
   "source": [
    "#key word arguement\n",
    "def nm(n1,n2,n3):\n",
    "    print(n1,n2,n3)\n",
    "nm(n3=10,n2=20,n1=130)"
   ]
  },
  {
   "cell_type": "code",
   "execution_count": 69,
   "id": "3a190666",
   "metadata": {},
   "outputs": [
    {
     "name": "stdout",
     "output_type": "stream",
     "text": [
      "Anuraag 2031 cse GIET\n",
      "Baddu 143 cse GIET\n",
      "Panda 14543 ece GIET\n"
     ]
    }
   ],
   "source": [
    "#default arguements\n",
    "def c_name(name,rollno,branch=\"cse\",collegename=\"GIET\"):\n",
    "    print(name,rollno,branch,collegename)\n",
    "c_name(\"Anuraag\",2031)\n",
    "c_name(\"Baddu\",143)\n",
    "c_name(\"Panda\",14543,\"ece\")"
   ]
  },
  {
   "cell_type": "code",
   "execution_count": 78,
   "id": "74b2b586",
   "metadata": {},
   "outputs": [
    {
     "name": "stdout",
     "output_type": "stream",
     "text": [
      "10 30 \n",
      "10 20 30 \n",
      "10 20 30 40 \n"
     ]
    }
   ],
   "source": [
    "#variable number of arguement\n",
    "def f(*var):\n",
    "    for i in var:\n",
    "        print(i,end=\" \")\n",
    "f(10,30)\n",
    "print()\n",
    "f(10,20,30)\n",
    "print()\n",
    "f(10,20,30,40)\n",
    "print()"
   ]
  },
  {
   "cell_type": "code",
   "execution_count": 86,
   "id": "defca158",
   "metadata": {},
   "outputs": [
    {
     "name": "stdout",
     "output_type": "stream",
     "text": [
      "40\n",
      "60\n",
      "100\n"
     ]
    }
   ],
   "source": [
    "\n",
    "def f(*var):\n",
    "    sum=0\n",
    "    for i in var:\n",
    "        sum=sum+i\n",
    "    return(sum)\n",
    "print(f(10,30))\n",
    "print(f(10,20,30))\n",
    "print(f(10,20,30,40))"
   ]
  },
  {
   "cell_type": "code",
   "execution_count": 92,
   "id": "98e937fd",
   "metadata": {},
   "outputs": [
    {
     "name": "stdout",
     "output_type": "stream",
     "text": [
      "-1\n",
      "4\n",
      "30\n"
     ]
    }
   ],
   "source": [
    "def f(n1,n2,n3):\n",
    "    if n1!=7 and n2!=7 and n3!=7:\n",
    "        print(n1*n2*n3)\n",
    "    elif(n1==7):\n",
    "        print(n2*n3)\n",
    "    elif(n2==7):\n",
    "        print(n3)\n",
    "    elif(n3==7):\n",
    "        print(-1)\n",
    "    else:\n",
    "        print(\"Default\")\n",
    "f(1,5,7)\n",
    "f(1,7,4)\n",
    "f(7,5,6)"
   ]
  },
  {
   "cell_type": "code",
   "execution_count": 98,
   "id": "f73ca6d8",
   "metadata": {},
   "outputs": [
    {
     "name": "stdout",
     "output_type": "stream",
     "text": [
      "Enter currency nameBritish_Pound\n",
      "Enter Indian Currency300\n",
      "3.0\n"
     ]
    }
   ],
   "source": [
    "currency=input(\"Enter currency name\")\n",
    "c_value=int(input(\"Enter Indian Currency\"))\n",
    "if(currency==\"Euro\"):\n",
    "    print(c_value*0.01417)\n",
    "elif(currency==\"British_Pound\"):\n",
    "    print(c_value*0.0100)\n",
    "elif(currency==\"Australian_Dollar\"):\n",
    "    print(c_value*0.02140)\n",
    "elif(currency==\"Canadian_Dollar\"):\n",
    "    print(c_value*0.02027)\n",
    "else:\n",
    "    print(\"valid\")"
   ]
  },
  {
   "cell_type": "code",
   "execution_count": 105,
   "id": "0bd021be",
   "metadata": {},
   "outputs": [
    {
     "name": "stdout",
     "output_type": "stream",
     "text": [
      "number of adullt5\n",
      "number of children2\n",
      "204910.35642\n"
     ]
    }
   ],
   "source": [
    "na=int(input(\"number of adullt\"))\n",
    "nc=int(input(\"number of children\"))\n",
    "price_of_adult=na*37550\n",
    "price_of_child=nc*12516.67\n",
    "t_c_b_d=price_of_adult+price_of_child\n",
    "service_tax=(t_c_b_d*7)/100\n",
    "t_overall=t_c_b_d+service_tax\n",
    "t_c_ad=t_overall-((t_overall*10)/100)\n",
    "#overall=price_of_adult+price_of_child-overall_tax\n",
    "print(t_c_ad)\n",
    "\n",
    "\n"
   ]
  },
  {
   "cell_type": "code",
   "execution_count": 18,
   "id": "53c638f8",
   "metadata": {},
   "outputs": [
    {
     "name": "stdout",
     "output_type": "stream",
     "text": [
      "Enter available 1 rs coins3\n",
      "Enter available 5 rs coins3\n",
      "Enter purchased amount19\n",
      "-1\n"
     ]
    }
   ],
   "source": [
    "Avail_1_coins=int(input(\"Enter available 1 rs coins\"))\n",
    "Avail_5_coins=int(input(\"Enter available 5 rs coins\"))\n",
    "A_p=int(input(\"Enter purchased amount\"))\n",
    "Amount_Have=Avail_1_coins+(5*Avail_5_coins)\n",
    "if(A_p>Amount_Have):\n",
    "    print(-1)\n",
    "\n",
    "else:\n",
    "    q=A_p//5\n",
    "    Total=A_p-(q*5)\n",
    "    print(Total)\n",
    "    print(q)\n",
    "\n",
    "    \n",
    "        "
   ]
  },
  {
   "cell_type": "code",
   "execution_count": null,
   "id": "19d500d7",
   "metadata": {},
   "outputs": [],
   "source": []
  }
 ],
 "metadata": {
  "kernelspec": {
   "display_name": "Python 3 (ipykernel)",
   "language": "python",
   "name": "python3"
  },
  "language_info": {
   "codemirror_mode": {
    "name": "ipython",
    "version": 3
   },
   "file_extension": ".py",
   "mimetype": "text/x-python",
   "name": "python",
   "nbconvert_exporter": "python",
   "pygments_lexer": "ipython3",
   "version": "3.9.13"
  }
 },
 "nbformat": 4,
 "nbformat_minor": 5
}
