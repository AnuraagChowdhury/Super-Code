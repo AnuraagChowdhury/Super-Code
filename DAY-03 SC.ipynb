{
 "cells": [
  {
   "cell_type": "code",
   "execution_count": null,
   "id": "96f0a8c3",
   "metadata": {},
   "outputs": [],
   "source": [
    "n1=int(input(\"Enter the value\"))\n",
    "n2=int(input(\"Enter the value\"))\n",
    "array=[i for i in range(n1,n2+1)]\n",
    "print(array)\n",
    "l1=[array[i:j+1] for i in range(len(array))for j in range(i,len)]\n",
    "print(l1)\n",
    "c=0\n",
    "for i in l1:\n",
    "    if sum(i)%2!==0\n",
    "result=[]\n",
    "for i in range(len(array)):\n",
    "    for j in range(i,len(array)):\n",
    "        result.append(array[i:j+1])\n",
    "print(result)\n",
    "result=[array[i:j+1] for i in range(len(array))\n",
    "        for j in range(i,len(array))]\n",
    "print(result)\n",
    "result=[array[i:j+1]]\n"
   ]
  },
  {
   "cell_type": "code",
   "execution_count": 2,
   "id": "3e7709bb",
   "metadata": {},
   "outputs": [
    {
     "name": "stdout",
     "output_type": "stream",
     "text": [
      "[0, 1, 2, 3, 4, 5, 6, 7, 8, 9, 10]\n",
      "[0, 1, 2, 3, 4, 5, 6, 7, 8, 9, 10]\n",
      "[1, 3, 5, 7, 9]\n"
     ]
    }
   ],
   "source": [
    "res=[]\n",
    "for i in range(11):\n",
    "    res.append(i)\n",
    "print(res)\n",
    "#print 0 to 10 using list comprehension\n",
    "print([i for i in range(11)])\n",
    "#print oddd number using list comprehension\n",
    "print([i for i in range(11) if i%2!=0])"
   ]
  },
  {
   "cell_type": "code",
   "execution_count": 4,
   "id": "f6f4f353",
   "metadata": {},
   "outputs": [
    {
     "name": "stdout",
     "output_type": "stream",
     "text": [
      "[0, 2, 4, 6, 8, 10]\n"
     ]
    }
   ],
   "source": [
    "print([i for i in range(11)if i%2==0])"
   ]
  },
  {
   "cell_type": "code",
   "execution_count": 13,
   "id": "a8ac1aaa",
   "metadata": {},
   "outputs": [
    {
     "name": "stdout",
     "output_type": "stream",
     "text": [
      "[1, 3, 5, 7, 9]\n",
      "[0, 4, 16, 36, 64, 100]\n",
      "[0, 1, 4, 3, 16, 5, 36, 7, 64, 9, 100]\n"
     ]
    }
   ],
   "source": [
    "res=[]\n",
    "res1=[]\n",
    "for i in range(11):\n",
    "    if i%2!=0:\n",
    "        res.append(i)\n",
    "    else:\n",
    "        res1.append(i**2)\n",
    "print(res)\n",
    "print(res1)\n",
    "#using list comprehension\n",
    "print([i if i%2!=0 else i**2 for i in range(11)])\n",
    "\n",
    "        "
   ]
  },
  {
   "cell_type": "code",
   "execution_count": 27,
   "id": "77f284ff",
   "metadata": {},
   "outputs": [
    {
     "name": "stdout",
     "output_type": "stream",
     "text": [
      "[8, 64, 216, 512, 1000, 1728, 2744, 4096]\n",
      "[1, 9, 25, 49, 81, 121, 169, 225]\n",
      "[1, 8, 3, 64, 5, 216, 7, 512, 9, 1000, 11, 1728, 13, 2744, 15, 4096]\n"
     ]
    }
   ],
   "source": [
    "res=[]\n",
    "res1=[]\n",
    "mat=[[1,2,3,4],[5,6,7,8],[9,10,11,12],[13,14,15,16]]\n",
    "for i in mat:\n",
    "    for j in i:\n",
    "        if j%2==0:\n",
    "            res.append(j**3)\n",
    "        else:\n",
    "            res1.append(j**2)\n",
    "print(res)\n",
    "print(res1)\n",
    "#list comprehension\n",
    "res1=[]\n",
    "mat=[[1,2,3,4],[5,6,7,8],[9,10,11,12],[13,14,15,16]]\n",
    "print([i if i%2!=0 else i**3 for j in mat for i in j])"
   ]
  },
  {
   "cell_type": "code",
   "execution_count": 34,
   "id": "4043876f",
   "metadata": {},
   "outputs": [
    {
     "name": "stdout",
     "output_type": "stream",
     "text": [
      "[[1, 8, 9, 64], [25, 216, 49, 512], [81, 1000, 121, 1728], [169, 2744, 225, 4096]]\n",
      "[[1, 8, 9, 64], [25, 216, 49, 512], [81, 1000, 121, 1728], [169, 2744, 225, 4096]]\n"
     ]
    }
   ],
   "source": [
    "mat=[[1,2,3,4],[5,6,7,8],[9,10,11,12],[13,14,15,16]]\n",
    "res=[]\n",
    "for i in mat:\n",
    "    res_data=[]\n",
    "    for j in i:\n",
    "        if j%2==0:\n",
    "            res_data.append(j**3)\n",
    "        else:\n",
    "            res_data.append(j**2)\n",
    "    res.append(res_data)\n",
    "print(res)\n",
    "\n",
    "print([[j**2 if j%2!=0 else j**3 for j in i]for i in mat])"
   ]
  },
  {
   "cell_type": "code",
   "execution_count": 47,
   "id": "e663088a",
   "metadata": {},
   "outputs": [
    {
     "name": "stdout",
     "output_type": "stream",
     "text": [
      "[(6, 2), (4, 8), (6, 2), (1, 3), (2, 7), (2, 7)]\n",
      "[(6, 2), (4, 8), (6, 2), (1, 3), (2, 7), (2, 7)]\n",
      "{6: 2, 4: 8, 1: 3, 2: 7}\n"
     ]
    }
   ],
   "source": [
    "mylist=[9,3,6,1,5,0,8,2,4,7]\n",
    "list_b=[6,4,6,1,2,2]\n",
    "res=[]\n",
    "for i in list_b:\n",
    "    anu=()\n",
    "    for j in mylist:\n",
    "        if i==j:\n",
    "            anu+=(i,mylist.index(j))\n",
    "    res.append(anu)\n",
    "print(res)\n",
    "\n",
    "print([(i,mylist.index(i)) for i in list_b])\n",
    "#DICTIONARY COMPREHENSION\n",
    "print({i:mylist.index(i) for i in list_b})\n",
    "    "
   ]
  },
  {
   "cell_type": "code",
   "execution_count": 55,
   "id": "7973c279",
   "metadata": {},
   "outputs": [
    {
     "name": "stdout",
     "output_type": "stream",
     "text": [
      "[['new', 'world', 'record', 'was', 'set'], ['holy', 'city', 'ayodhya'], ['eve', 'diwali', 'tuesday'], ['over', 'three', 'lakh', 'diya', 'or', 'earthen', 'lamps'], ['lit', 'up', 'simultaneously', 'banks', 'sarayu', 'river']]\n"
     ]
    }
   ],
   "source": [
    "sentences=[\"a new world record was set\",\n",
    "          \"in the holy city of ayodhya\",\n",
    "          \"on the eve of diwali on tuesday\",\n",
    "          \"with over three lakh diya or earthen lamps\",\n",
    "          \"lit up simultaneously on the banks of the sarayu river\" ]\n",
    "stopwords=[\"for\",\"a\",\"of\",\"the\",\"and\",\"to\",\"in\",\"on\",\"with\"]\n",
    "res=[]\n",
    "for sentence in sentences:\n",
    "    sen=[]\n",
    "    for words in sentence.split(\" \"):\n",
    "        if words not in stopwords:\n",
    "            sen.append(words)\n",
    "    res.append(sen)\n",
    "print(res)           \n",
    "        \n",
    "#print[[words for words in sentences.split(\" \") if words not in stopwords] for sentence in sentences]\n",
    "    \n",
    "    "
   ]
  },
  {
   "cell_type": "code",
   "execution_count": 2,
   "id": "36392051",
   "metadata": {},
   "outputs": [
    {
     "name": "stdout",
     "output_type": "stream",
     "text": [
      "['3', '2', '6', '5', '1', '4', '8', '9']\n"
     ]
    }
   ],
   "source": [
    "l=\"3,2,6,5,1,4,8,9\"\n",
    "a=l.split(\",\")\n",
    "b=list(a)\n",
    "#c=b.split(\",\")\n",
    "print(b)\n",
    "#b=a[0:3]+a[7]\n",
    "#print(b)\n"
   ]
  },
  {
   "cell_type": "code",
   "execution_count": 87,
   "id": "3490bcff",
   "metadata": {},
   "outputs": [
    {
     "name": "stdout",
     "output_type": "stream",
     "text": [
      "anupama\n",
      "11\n",
      "aanupam\n"
     ]
    }
   ],
   "source": [
    "s=str(input())\n",
    "n=int(input())\n",
    "sum=0\n",
    "for i in str(n):\n",
    "    sum+=int(i)**2\n",
    "if(sum%2==0):\n",
    "    a=s[-1]+s[:-1]\n",
    "else:\n",
    "    a=s[2:]+s[:2]\n",
    "print(a)"
   ]
  },
  {
   "cell_type": "code",
   "execution_count": 4,
   "id": "781d76fc",
   "metadata": {},
   "outputs": [
    {
     "name": "stdout",
     "output_type": "stream",
     "text": [
      "10\n",
      "[2, 5]\n",
      "[11]\n",
      "[2, 3]\n",
      "[13]\n",
      "[2, 7]\n",
      "[3, 5]\n",
      "[2]\n",
      "[17]\n",
      "[2, 3]\n",
      "[5, 11, 3, 13, 7, 5, 2, 17, 3]\n",
      "66\n"
     ]
    }
   ],
   "source": [
    "n=int(input())\n",
    "l1=[]\n",
    "for j in range(n,n+9):\n",
    "    l=[]\n",
    "    for i in range(1,j+1):\n",
    "        if j%i==0:\n",
    "            a=0\n",
    "            for k in range(1,j+1):\n",
    "                if i%k==0:\n",
    "                    a+=1\n",
    "            if a==2:\n",
    "                l.append(i)\n",
    "    print(l)\n",
    "    a=max(l)\n",
    "    l1.append(a)\n",
    "    #l1.append(max(l))\n",
    "print(l1)\n",
    "a=0\n",
    "for k in l1:\n",
    "    a+=k\n",
    "print(a)\n",
    "    "
   ]
  },
  {
   "cell_type": "code",
   "execution_count": null,
   "id": "6b38c54b",
   "metadata": {},
   "outputs": [],
   "source": []
  }
 ],
 "metadata": {
  "kernelspec": {
   "display_name": "Python 3 (ipykernel)",
   "language": "python",
   "name": "python3"
  },
  "language_info": {
   "codemirror_mode": {
    "name": "ipython",
    "version": 3
   },
   "file_extension": ".py",
   "mimetype": "text/x-python",
   "name": "python",
   "nbconvert_exporter": "python",
   "pygments_lexer": "ipython3",
   "version": "3.9.13"
  }
 },
 "nbformat": 4,
 "nbformat_minor": 5
}
