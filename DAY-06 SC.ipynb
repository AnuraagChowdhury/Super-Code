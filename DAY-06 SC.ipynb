{
 "cells": [
  {
   "cell_type": "code",
   "execution_count": null,
   "id": "69a598a4",
   "metadata": {},
   "outputs": [],
   "source": [
    "class Customer:\n",
    "    def __init__(self,c_id,c_name,age,account):\n",
    "        self.c_id=c_id\n",
    "        self.c_name=c_namebalance\n",
    "        self.age=age\n",
    "        self.account=account\n",
    "    def withdraw(self,account):\n",
    "        self.account=account\n",
    "    def take_card():\n",
    "        print(\"Take card out from the ATM\")\n",
    "    def get_customer_id(self):\n",
    "        return self.customer_id\n",
    "    def get_customer_name(self):\n",
    "        return self.customer_name\n",
    "    def get_age(self):\n",
    "        return self.agex\n",
    "    def get_account(self):\n",
    "        return self.account\n",
    "class Account:\n",
    "    def __init__(self,acc_type,bal,min_bal):\n",
    "        self.acc_type=acc_type\n",
    "        self.bal=bal\n",
    "        self.min_bal=min_bal\n",
    "    def get_account_type(self):\n",
    "        self.account_type=account_type\n",
    "    def get_balance(self):\n",
    "        self.balance=balance\n",
    "    def get_min_balance(self):\n",
    "        self.min_balance=min_balance\n",
    "    def set_balance(balance):\n",
    "        self.balance=balance\n",
    "class PrivilegedCustomer(self):\n",
    "    def __init__(self,c_id,c_name,age,account,bonus_points):\n",
    "        self.c_id=c_id\n",
    "        self.c_namec_name\n",
    "        self.account=account\n",
    "        self.bonus_points=bonus_points\n",
    "    def withdraw(self,amount):\n",
    "        self.amount=amount\n",
    "    def get_bonus_points(self):\n",
    "        self.bonus_points=bonus_points\n",
    "    def \n",
    "    "
   ]
  }
 ],
 "metadata": {
  "kernelspec": {
   "display_name": "Python 3 (ipykernel)",
   "language": "python",
   "name": "python3"
  },
  "language_info": {
   "codemirror_mode": {
    "name": "ipython",
    "version": 3
   },
   "file_extension": ".py",
   "mimetype": "text/x-python",
   "name": "python",
   "nbconvert_exporter": "python",
   "pygments_lexer": "ipython3",
   "version": "3.9.13"
  }
 },
 "nbformat": 4,
 "nbformat_minor": 5
}
